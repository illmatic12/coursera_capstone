{
 "cells": [
  {
   "cell_type": "markdown",
   "metadata": {},
   "source": [
    "<h1> Introduction </h1>"
   ]
  },
  {
   "cell_type": "markdown",
   "metadata": {},
   "source": [
    "<p>Seattle and San Francisco are two of the most well known cities in America. San Francisco is located in California, the most populous state, and is a major center of business and entertainment. San Francisco is one of the richer cities in California and that was one of the reasons it was chosen along with Seattle. Seattle is the most famous and largest city in Washington and alongside its thriving businesses and opportunities found in Seattle it is also known as a rainy city.The neighborhoods of these two affluent cities will be provided by wikipedia and they will be compared[1,2]. So what will the data be used for?\n",
    "    \n",
    "The problem to be solved is say a person was moving from one city to the other ,it doesn't matter which to which, which neighborhood do they settle in? Are there any definitely distinct neighborhoods in either city? Furthermore, if a person wants to start a business in either city and live there? Is there a less expesive city to live in and are there neighborhoods that don't have certain businesses that a person can start in that neighborhood so as to have less competition.</p>"
   ]
  },
  {
   "cell_type": "markdown",
   "metadata": {},
   "source": [
    "<h2> Data </h2>\n",
    "\n",
    "<p>\n",
    "The data that will be used have the following descriptions:\n",
    "\n",
    "<ul>\n",
    "    <li> The wikipedia pages of the lists of neighborhoods will either be scraped if it is required or the pd.read_html function will be used if the neighborhoods are already in a table format. The pages will provide us with the necessary neighborhoods we need. However, it should be noted that seattle is MUCH larger than San Francisco so will have more neighborhoods.The neighborhood names might also need to be cleaned of special characters in case it gets in the way.</li>  \n",
    "<li> THe latitudes and longitudes of the Neighborhoods will be provided by the geopy.geocoders Nominatim which will undoubtedly have some problems that in finding the correct location so double checking on the locations will be a priority.</li>\n",
    "<li>The foursquare API will be used to get the Venues of each of the neighborhoods if it has any venues [3].</li>\n",
    "<li> The median housing prices of each city will be provided by REDFIN a website that has real estate data for many locations</li>\n",
    "</ul>\n",
    "\n",
    "\n",
    "</p>"
   ]
  },
  {
   "cell_type": "code",
   "execution_count": null,
   "metadata": {},
   "outputs": [],
   "source": []
  }
 ],
 "metadata": {
  "kernelspec": {
   "display_name": "Python 3",
   "language": "python",
   "name": "python3"
  },
  "language_info": {
   "codemirror_mode": {
    "name": "ipython",
    "version": 3
   },
   "file_extension": ".py",
   "mimetype": "text/x-python",
   "name": "python",
   "nbconvert_exporter": "python",
   "pygments_lexer": "ipython3",
   "version": "3.8.5"
  }
 },
 "nbformat": 4,
 "nbformat_minor": 4
}
